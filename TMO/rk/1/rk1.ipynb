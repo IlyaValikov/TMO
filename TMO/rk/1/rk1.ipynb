{
 "cells": [
  {
   "cell_type": "code",
   "execution_count": 1,
   "metadata": {},
   "outputs": [],
   "source": [
    "# TMO rk1 Валиков Илья"
   ]
  },
  {
   "cell_type": "code",
   "execution_count": 2,
   "metadata": {
    "id": "Iogg-VwAccxS"
   },
   "outputs": [],
   "source": [
    "import numpy as np\n",
    "import pandas as pd\n",
    "import seaborn as sns\n",
    "import matplotlib\n",
    "import matplotlib_inline\n",
    "import matplotlib.pyplot as plt\n",
    "%matplotlib inline\n",
    "sns.set(style=\"ticks\")"
   ]
  },
  {
   "cell_type": "code",
   "execution_count": 3,
   "metadata": {
    "id": "mv0Kafhic4Rp"
   },
   "outputs": [],
   "source": [
    "data = pd.read_csv('toy_dataset.csv', sep=\",\")"
   ]
  },
  {
   "cell_type": "code",
   "execution_count": 4,
   "metadata": {
    "colab": {
     "base_uri": "https://localhost:8080/"
    },
    "id": "M8vRnt-mc7SQ",
    "outputId": "38922587-81d7-4103-c464-21af5120e958"
   },
   "outputs": [
    {
     "data": {
      "text/plain": [
       "(150000, 6)"
      ]
     },
     "execution_count": 4,
     "metadata": {},
     "output_type": "execute_result"
    }
   ],
   "source": [
    "data.shape"
   ]
  },
  {
   "cell_type": "code",
   "execution_count": 5,
   "metadata": {
    "colab": {
     "base_uri": "https://localhost:8080/"
    },
    "id": "1LNRHqeKdDZZ",
    "outputId": "bee0bd46-1e3b-4c27-f944-fa366d565431"
   },
   "outputs": [
    {
     "data": {
      "text/plain": [
       "Number       int64\n",
       "City        object\n",
       "Gender      object\n",
       "Age          int64\n",
       "Income     float64\n",
       "Illness     object\n",
       "dtype: object"
      ]
     },
     "execution_count": 5,
     "metadata": {},
     "output_type": "execute_result"
    }
   ],
   "source": [
    "data.dtypes"
   ]
  },
  {
   "cell_type": "code",
   "execution_count": 6,
   "metadata": {
    "colab": {
     "base_uri": "https://localhost:8080/"
    },
    "id": "SLy_rdjbc-eP",
    "outputId": "b3ed9306-044e-4fb5-bc93-aa23d6f60e0c"
   },
   "outputs": [
    {
     "data": {
      "text/plain": [
       "Number     0\n",
       "City       0\n",
       "Gender     0\n",
       "Age        0\n",
       "Income     0\n",
       "Illness    0\n",
       "dtype: int64"
      ]
     },
     "execution_count": 6,
     "metadata": {},
     "output_type": "execute_result"
    }
   ],
   "source": [
    "data.isnull().sum()"
   ]
  },
  {
   "cell_type": "markdown",
   "metadata": {
    "id": "H1oZHsg9sRCc"
   },
   "source": [
    "### тк столбец \"Number\" не нужен для корреляции, можем удалить его"
   ]
  },
  {
   "cell_type": "code",
   "execution_count": 8,
   "metadata": {
    "id": "1mFug0DmdNg_"
   },
   "outputs": [],
   "source": [
    "data = data.drop(columns=['Number'], axis=1)"
   ]
  },
  {
   "cell_type": "code",
   "execution_count": 9,
   "metadata": {
    "colab": {
     "base_uri": "https://localhost:8080/",
     "height": 206
    },
    "id": "CdeSL6t9sbUn",
    "outputId": "0727c536-d417-4b69-ab12-7e622a0d28dd"
   },
   "outputs": [
    {
     "data": {
      "text/html": [
       "<div>\n",
       "<style scoped>\n",
       "    .dataframe tbody tr th:only-of-type {\n",
       "        vertical-align: middle;\n",
       "    }\n",
       "\n",
       "    .dataframe tbody tr th {\n",
       "        vertical-align: top;\n",
       "    }\n",
       "\n",
       "    .dataframe thead th {\n",
       "        text-align: right;\n",
       "    }\n",
       "</style>\n",
       "<table border=\"1\" class=\"dataframe\">\n",
       "  <thead>\n",
       "    <tr style=\"text-align: right;\">\n",
       "      <th></th>\n",
       "      <th>City</th>\n",
       "      <th>Gender</th>\n",
       "      <th>Age</th>\n",
       "      <th>Income</th>\n",
       "      <th>Illness</th>\n",
       "    </tr>\n",
       "  </thead>\n",
       "  <tbody>\n",
       "    <tr>\n",
       "      <th>0</th>\n",
       "      <td>Dallas</td>\n",
       "      <td>Male</td>\n",
       "      <td>41</td>\n",
       "      <td>40367.0</td>\n",
       "      <td>No</td>\n",
       "    </tr>\n",
       "    <tr>\n",
       "      <th>1</th>\n",
       "      <td>Dallas</td>\n",
       "      <td>Male</td>\n",
       "      <td>54</td>\n",
       "      <td>45084.0</td>\n",
       "      <td>No</td>\n",
       "    </tr>\n",
       "    <tr>\n",
       "      <th>2</th>\n",
       "      <td>Dallas</td>\n",
       "      <td>Male</td>\n",
       "      <td>42</td>\n",
       "      <td>52483.0</td>\n",
       "      <td>No</td>\n",
       "    </tr>\n",
       "    <tr>\n",
       "      <th>3</th>\n",
       "      <td>Dallas</td>\n",
       "      <td>Male</td>\n",
       "      <td>40</td>\n",
       "      <td>40941.0</td>\n",
       "      <td>No</td>\n",
       "    </tr>\n",
       "    <tr>\n",
       "      <th>4</th>\n",
       "      <td>Dallas</td>\n",
       "      <td>Male</td>\n",
       "      <td>46</td>\n",
       "      <td>50289.0</td>\n",
       "      <td>No</td>\n",
       "    </tr>\n",
       "  </tbody>\n",
       "</table>\n",
       "</div>"
      ],
      "text/plain": [
       "     City Gender  Age   Income Illness\n",
       "0  Dallas   Male   41  40367.0      No\n",
       "1  Dallas   Male   54  45084.0      No\n",
       "2  Dallas   Male   42  52483.0      No\n",
       "3  Dallas   Male   40  40941.0      No\n",
       "4  Dallas   Male   46  50289.0      No"
      ]
     },
     "execution_count": 9,
     "metadata": {},
     "output_type": "execute_result"
    }
   ],
   "source": [
    "data.head()"
   ]
  },
  {
   "cell_type": "markdown",
   "metadata": {
    "id": "oh1Kk_mHs_4p"
   },
   "source": [
    "### Проверим уникальные значения для каждых столбцов"
   ]
  },
  {
   "cell_type": "code",
   "execution_count": 11,
   "metadata": {
    "colab": {
     "base_uri": "https://localhost:8080/"
    },
    "id": "dsIvsIYyslnJ",
    "outputId": "8e726234-aec9-48f4-91ee-e601ba925068"
   },
   "outputs": [
    {
     "data": {
      "text/plain": [
       "array(['Dallas', 'New York City', 'Los Angeles', 'Mountain View',\n",
       "       'Boston', 'Washington D.C.', 'San Diego', 'Austin'], dtype=object)"
      ]
     },
     "execution_count": 11,
     "metadata": {},
     "output_type": "execute_result"
    }
   ],
   "source": [
    "data['City'].unique()"
   ]
  },
  {
   "cell_type": "code",
   "execution_count": 12,
   "metadata": {
    "colab": {
     "base_uri": "https://localhost:8080/"
    },
    "id": "JwzwCCFstIla",
    "outputId": "d54d466b-6435-49dd-eda1-749e2fe30cba"
   },
   "outputs": [
    {
     "data": {
      "text/plain": [
       "array(['Male', 'Female'], dtype=object)"
      ]
     },
     "execution_count": 12,
     "metadata": {},
     "output_type": "execute_result"
    }
   ],
   "source": [
    "data['Gender'].unique()"
   ]
  },
  {
   "cell_type": "code",
   "execution_count": 13,
   "metadata": {
    "colab": {
     "base_uri": "https://localhost:8080/"
    },
    "id": "RR5wvsaftN3p",
    "outputId": "c90230c3-47a8-4266-e598-8718adaeaf68"
   },
   "outputs": [
    {
     "data": {
      "text/plain": [
       "array([41, 54, 42, 40, 46, 36, 32, 39, 51, 30, 48, 47, 61, 43, 27, 38, 35,\n",
       "       57, 33, 58, 64, 44, 34, 45, 55, 63, 59, 26, 56, 62, 31, 49, 53, 29,\n",
       "       28, 25, 37, 65, 60, 50, 52], dtype=int64)"
      ]
     },
     "execution_count": 13,
     "metadata": {},
     "output_type": "execute_result"
    }
   ],
   "source": [
    "data['Age'].unique()"
   ]
  },
  {
   "cell_type": "code",
   "execution_count": 14,
   "metadata": {
    "colab": {
     "base_uri": "https://localhost:8080/"
    },
    "id": "qJWdGeUXtPR3",
    "outputId": "ada614b8-5595-414b-c148-78ef727fd50f"
   },
   "outputs": [
    {
     "data": {
      "text/plain": [
       "array([ 40367.,  45084.,  52483., ..., 107123.,  62501.,  77823.])"
      ]
     },
     "execution_count": 14,
     "metadata": {},
     "output_type": "execute_result"
    }
   ],
   "source": [
    "data['Income'].unique()"
   ]
  },
  {
   "cell_type": "code",
   "execution_count": 15,
   "metadata": {
    "colab": {
     "base_uri": "https://localhost:8080/"
    },
    "id": "ywInpWh9tRLY",
    "outputId": "64804190-c441-4d28-a117-63c92c90d29e"
   },
   "outputs": [
    {
     "data": {
      "text/plain": [
       "array(['No', 'Yes'], dtype=object)"
      ]
     },
     "execution_count": 15,
     "metadata": {},
     "output_type": "execute_result"
    }
   ],
   "source": [
    "data['Illness'].unique()"
   ]
  },
  {
   "cell_type": "markdown",
   "metadata": {
    "id": "BLl5NXA_ti-9"
   },
   "source": [
    "### Столбцы \"City\", \"Gender\" и \"Illness\" можно отнести к категориальным признакам. С помощью библиотеки LabelEncoder закодируем категориальные признаки в числовые."
   ]
  },
  {
   "cell_type": "code",
   "execution_count": 17,
   "metadata": {
    "id": "lAmnzS60tvyz"
   },
   "outputs": [],
   "source": [
    "from sklearn.preprocessing import LabelEncoder"
   ]
  },
  {
   "cell_type": "markdown",
   "metadata": {
    "id": "Q7ZbRT_-uUHF"
   },
   "source": [
    "### Преобразуем столбец \"City\""
   ]
  },
  {
   "cell_type": "code",
   "execution_count": 19,
   "metadata": {
    "id": "kuh3Mzi8t5nH"
   },
   "outputs": [],
   "source": [
    "letypecity = LabelEncoder()\n",
    "learrcity = letypecity.fit_transform(data[\"City\"])\n",
    "data[\"City\"] = learrcity\n",
    "data = data.astype({\"City\":\"int64\"})"
   ]
  },
  {
   "cell_type": "markdown",
   "metadata": {
    "id": "MM0rqgF9ubPq"
   },
   "source": [
    "### Проверим изменения"
   ]
  },
  {
   "cell_type": "code",
   "execution_count": 21,
   "metadata": {
    "colab": {
     "base_uri": "https://localhost:8080/"
    },
    "id": "OdV6oJpeubc5",
    "outputId": "fe0bd5f5-c3a7-411b-9ac6-57d9e6ac8034"
   },
   "outputs": [
    {
     "data": {
      "text/plain": [
       "array([0, 1, 2, 3, 4, 5, 6, 7])"
      ]
     },
     "execution_count": 21,
     "metadata": {},
     "output_type": "execute_result"
    }
   ],
   "source": [
    "np.unique(learrcity)"
   ]
  },
  {
   "cell_type": "markdown",
   "metadata": {
    "id": "iUbNxyWLubpP"
   },
   "source": [
    "### Аналогично преобразуем столбцы \"Gender\" и \"Illness\""
   ]
  },
  {
   "cell_type": "code",
   "execution_count": 23,
   "metadata": {
    "id": "rGFj7n4xubxt"
   },
   "outputs": [],
   "source": [
    "letypegender = LabelEncoder()\n",
    "learrgender = letypegender.fit_transform(data[\"Gender\"])\n",
    "data[\"Gender\"] = learrgender\n",
    "data = data.astype({\"Gender\":\"int64\"})"
   ]
  },
  {
   "cell_type": "code",
   "execution_count": 24,
   "metadata": {
    "colab": {
     "base_uri": "https://localhost:8080/"
    },
    "id": "-abezx5lu_uZ",
    "outputId": "6894d2df-d966-429d-87cb-a593d275b5d6"
   },
   "outputs": [
    {
     "data": {
      "text/plain": [
       "array([0, 1])"
      ]
     },
     "execution_count": 24,
     "metadata": {},
     "output_type": "execute_result"
    }
   ],
   "source": [
    "np.unique(learrgender)"
   ]
  },
  {
   "cell_type": "code",
   "execution_count": 25,
   "metadata": {
    "id": "J6qEL_hou_z9"
   },
   "outputs": [],
   "source": [
    "letypeill = LabelEncoder()\n",
    "learrill = letypeill.fit_transform(data[\"Illness\"])\n",
    "data[\"Illness\"] = learrill\n",
    "data = data.astype({\"Illness\":\"int64\"})"
   ]
  },
  {
   "cell_type": "code",
   "execution_count": 26,
   "metadata": {
    "colab": {
     "base_uri": "https://localhost:8080/"
    },
    "id": "C5eC1l1wu_6Q",
    "outputId": "30f5c35b-20e6-454f-a201-197ea79c51bc"
   },
   "outputs": [
    {
     "data": {
      "text/plain": [
       "array([0, 1])"
      ]
     },
     "execution_count": 26,
     "metadata": {},
     "output_type": "execute_result"
    }
   ],
   "source": [
    "np.unique(learrill)"
   ]
  },
  {
   "cell_type": "markdown",
   "metadata": {
    "id": "_4Ti1OqQvFPU"
   },
   "source": [
    "### Проверим типы данных"
   ]
  },
  {
   "cell_type": "code",
   "execution_count": 28,
   "metadata": {
    "colab": {
     "base_uri": "https://localhost:8080/"
    },
    "id": "DxYVIcQOvFaH",
    "outputId": "928f4886-d053-447d-f5dd-f5fc1f7542d8"
   },
   "outputs": [
    {
     "data": {
      "text/plain": [
       "City         int64\n",
       "Gender       int64\n",
       "Age          int64\n",
       "Income     float64\n",
       "Illness      int64\n",
       "dtype: object"
      ]
     },
     "execution_count": 28,
     "metadata": {},
     "output_type": "execute_result"
    }
   ],
   "source": [
    "data.dtypes"
   ]
  },
  {
   "cell_type": "markdown",
   "metadata": {
    "id": "z1SKKmy9vsIG"
   },
   "source": [
    "### **корреляционный анализ**\n",
    "\n",
    "### выберем в качестве целевого признака гендер"
   ]
  },
  {
   "cell_type": "code",
   "execution_count": 30,
   "metadata": {
    "colab": {
     "base_uri": "https://localhost:8080/",
     "height": 206
    },
    "id": "FTlTiJtJvsQh",
    "outputId": "0a1388a5-3f6a-4907-cdcc-efeec5116f2a"
   },
   "outputs": [
    {
     "data": {
      "text/html": [
       "<div>\n",
       "<style scoped>\n",
       "    .dataframe tbody tr th:only-of-type {\n",
       "        vertical-align: middle;\n",
       "    }\n",
       "\n",
       "    .dataframe tbody tr th {\n",
       "        vertical-align: top;\n",
       "    }\n",
       "\n",
       "    .dataframe thead th {\n",
       "        text-align: right;\n",
       "    }\n",
       "</style>\n",
       "<table border=\"1\" class=\"dataframe\">\n",
       "  <thead>\n",
       "    <tr style=\"text-align: right;\">\n",
       "      <th></th>\n",
       "      <th>City</th>\n",
       "      <th>Gender</th>\n",
       "      <th>Age</th>\n",
       "      <th>Income</th>\n",
       "      <th>Illness</th>\n",
       "    </tr>\n",
       "  </thead>\n",
       "  <tbody>\n",
       "    <tr>\n",
       "      <th>City</th>\n",
       "      <td>1.000000</td>\n",
       "      <td>0.002188</td>\n",
       "      <td>-0.000636</td>\n",
       "      <td>0.234541</td>\n",
       "      <td>-0.001712</td>\n",
       "    </tr>\n",
       "    <tr>\n",
       "      <th>Gender</th>\n",
       "      <td>0.002188</td>\n",
       "      <td>1.000000</td>\n",
       "      <td>-0.003653</td>\n",
       "      <td>0.198888</td>\n",
       "      <td>0.001297</td>\n",
       "    </tr>\n",
       "    <tr>\n",
       "      <th>Age</th>\n",
       "      <td>-0.000636</td>\n",
       "      <td>-0.003653</td>\n",
       "      <td>1.000000</td>\n",
       "      <td>-0.001318</td>\n",
       "      <td>0.001811</td>\n",
       "    </tr>\n",
       "    <tr>\n",
       "      <th>Income</th>\n",
       "      <td>0.234541</td>\n",
       "      <td>0.198888</td>\n",
       "      <td>-0.001318</td>\n",
       "      <td>1.000000</td>\n",
       "      <td>0.000298</td>\n",
       "    </tr>\n",
       "    <tr>\n",
       "      <th>Illness</th>\n",
       "      <td>-0.001712</td>\n",
       "      <td>0.001297</td>\n",
       "      <td>0.001811</td>\n",
       "      <td>0.000298</td>\n",
       "      <td>1.000000</td>\n",
       "    </tr>\n",
       "  </tbody>\n",
       "</table>\n",
       "</div>"
      ],
      "text/plain": [
       "             City    Gender       Age    Income   Illness\n",
       "City     1.000000  0.002188 -0.000636  0.234541 -0.001712\n",
       "Gender   0.002188  1.000000 -0.003653  0.198888  0.001297\n",
       "Age     -0.000636 -0.003653  1.000000 -0.001318  0.001811\n",
       "Income   0.234541  0.198888 -0.001318  1.000000  0.000298\n",
       "Illness -0.001712  0.001297  0.001811  0.000298  1.000000"
      ]
     },
     "execution_count": 30,
     "metadata": {},
     "output_type": "execute_result"
    }
   ],
   "source": [
    "data.corr()"
   ]
  },
  {
   "cell_type": "markdown",
   "metadata": {
    "id": "SpeLFxMXvsWU"
   },
   "source": [
    "### Визуализируем с помощью тепловой карты"
   ]
  },
  {
   "cell_type": "code",
   "execution_count": 32,
   "metadata": {
    "colab": {
     "base_uri": "https://localhost:8080/",
     "height": 517
    },
    "id": "b68kwqu_vsdU",
    "outputId": "12bbc6fe-b421-4973-b8c8-7804458af76c"
   },
   "outputs": [
    {
     "data": {
      "text/plain": [
       "<Axes: >"
      ]
     },
     "execution_count": 32,
     "metadata": {},
     "output_type": "execute_result"
    },
    {
     "data": {
      "image/png": "[encoded data removed]",
      "text/plain": [
       "<Figure size 1000x500 with 2 Axes>"
      ]
     },
     "metadata": {},
     "output_type": "display_data"
    }
   ],
   "source": [
    "fig, ax = plt.subplots(1, 1, sharex='col', sharey='row', figsize=(10,5))\n",
    "fig.suptitle('Тепловая карта корреляционной матрицы')\n",
    "sns.heatmap(data.corr(), ax=ax, annot=True, fmt='.4f', cmap=\"YlOrRd\")"
   ]
  },
  {
   "cell_type": "markdown",
   "metadata": {
    "id": "QwkKD1vgwa4D"
   },
   "source": [
    "### На основе матрицы корреляции можно сделать следующие выводы:\n",
    "### 1) Целевой признак наиболее сильно коррелирует с доходом (\"Income\", 0.20)\n",
    "### 2) Целевой признак слабо коррелирует c городом (\"City\", 0.0022), возрастом (\"Age\", -0.0037) и болезнью (\"Illness\", 0.0013)\n",
    "### 3)Наблюдается корреляция города (\"City\") с доходом (\"Income\") - 0.2345\n",
    "### Сильно корреляции (>0.5) не наблюдается, значит все признаки можно оставить в модели."
   ]
  },
  {
   "cell_type": "code",
   "execution_count": 34,
   "metadata": {
    "id": "CuseSTvhyDnr"
   },
   "outputs": [],
   "source": [
    "cities = {\n",
    "0: 'Austin',\n",
    "1: 'Boston',\n",
    "2: 'Dallas',\n",
    "3: 'Los Angeles',\n",
    "4: 'Mountain View',\n",
    "5: 'New York City',\n",
    "6: 'San Diego',\n",
    "7: 'Washington D.C.',\n",
    "}\n",
    "data['City'] = data['City'].replace(cities)\n",
    "\n",
    "genders = {\n",
    "0: 'Male',\n",
    "1: 'Female',\n",
    "}\n",
    "data['Gender'] = data['Gender'].replace(genders)"
   ]
  },
  {
   "cell_type": "markdown",
   "metadata": {
    "id": "vNPwokNByF4x"
   },
   "source": [
    "Проверим, что данные трансформировались\n"
   ]
  },
  {
   "cell_type": "code",
   "execution_count": 36,
   "metadata": {
    "colab": {
     "base_uri": "https://localhost:8080/",
     "height": 206
    },
    "id": "4v0brWvqyF-G",
    "outputId": "1d8e7465-fd00-42e6-a142-ae628a0d9bfa"
   },
   "outputs": [
    {
     "data": {
      "text/html": [
       "<div>\n",
       "<style scoped>\n",
       "    .dataframe tbody tr th:only-of-type {\n",
       "        vertical-align: middle;\n",
       "    }\n",
       "\n",
       "    .dataframe tbody tr th {\n",
       "        vertical-align: top;\n",
       "    }\n",
       "\n",
       "    .dataframe thead th {\n",
       "        text-align: right;\n",
       "    }\n",
       "</style>\n",
       "<table border=\"1\" class=\"dataframe\">\n",
       "  <thead>\n",
       "    <tr style=\"text-align: right;\">\n",
       "      <th></th>\n",
       "      <th>City</th>\n",
       "      <th>Gender</th>\n",
       "      <th>Age</th>\n",
       "      <th>Income</th>\n",
       "      <th>Illness</th>\n",
       "    </tr>\n",
       "  </thead>\n",
       "  <tbody>\n",
       "    <tr>\n",
       "      <th>0</th>\n",
       "      <td>Dallas</td>\n",
       "      <td>Female</td>\n",
       "      <td>41</td>\n",
       "      <td>40367.0</td>\n",
       "      <td>0</td>\n",
       "    </tr>\n",
       "    <tr>\n",
       "      <th>1</th>\n",
       "      <td>Dallas</td>\n",
       "      <td>Female</td>\n",
       "      <td>54</td>\n",
       "      <td>45084.0</td>\n",
       "      <td>0</td>\n",
       "    </tr>\n",
       "    <tr>\n",
       "      <th>2</th>\n",
       "      <td>Dallas</td>\n",
       "      <td>Female</td>\n",
       "      <td>42</td>\n",
       "      <td>52483.0</td>\n",
       "      <td>0</td>\n",
       "    </tr>\n",
       "    <tr>\n",
       "      <th>3</th>\n",
       "      <td>Dallas</td>\n",
       "      <td>Female</td>\n",
       "      <td>40</td>\n",
       "      <td>40941.0</td>\n",
       "      <td>0</td>\n",
       "    </tr>\n",
       "    <tr>\n",
       "      <th>4</th>\n",
       "      <td>Dallas</td>\n",
       "      <td>Female</td>\n",
       "      <td>46</td>\n",
       "      <td>50289.0</td>\n",
       "      <td>0</td>\n",
       "    </tr>\n",
       "  </tbody>\n",
       "</table>\n",
       "</div>"
      ],
      "text/plain": [
       "     City  Gender  Age   Income  Illness\n",
       "0  Dallas  Female   41  40367.0        0\n",
       "1  Dallas  Female   54  45084.0        0\n",
       "2  Dallas  Female   42  52483.0        0\n",
       "3  Dallas  Female   40  40941.0        0\n",
       "4  Dallas  Female   46  50289.0        0"
      ]
     },
     "execution_count": 36,
     "metadata": {},
     "output_type": "execute_result"
    }
   ],
   "source": [
    "data.head()"
   ]
  },
  {
   "cell_type": "markdown",
   "metadata": {
    "id": "pOzYZgKByGFO"
   },
   "source": [
    "## Построим диаграмму jointplot"
   ]
  },
  {
   "cell_type": "code",
   "execution_count": 38,
   "metadata": {
    "colab": {
     "base_uri": "https://localhost:8080/",
     "height": 875
    },
    "id": "4CFm7GwqyGNe",
    "outputId": "851bdaa8-3f7f-47bf-e994-8aa457941d71"
   },
   "outputs": [
    {
     "data": {
      "image/png": "[encoded data removed]",
      "text/plain": [
       "<Figure size 600x600 with 3 Axes>"
      ]
     },
     "metadata": {},
     "output_type": "display_data"
    }
   ],
   "source": [
    "column1 = 'Income'\n",
    "column2 = 'Illness'\n",
    "\n",
    "# Построим график \"Jointplot\"\n",
    "sns.jointplot(x=column1, y=column2, data=data, kind='scatter')\n",
    "plt.show()"
   ]
  }
 ],
 "metadata": {
  "colab": {
   "authorship_tag": "ABX9TyOmaEbfzlJIyW3WtHloi+s6",
   "include_colab_link": true,
   "provenance": []
  },
  "kernelspec": {
   "display_name": "Python 3 (ipykernel)",
   "language": "python",
   "name": "python3"
  },
  "language_info": {
   "codemirror_mode": {
    "name": "ipython",
    "version": 3
   },
   "file_extension": ".py",
   "mimetype": "text/x-python",
   "name": "python",
   "nbconvert_exporter": "python",
   "pygments_lexer": "ipython3",
   "version": "3.12.4"
  }
 },
 "nbformat": 4,
 "nbformat_minor": 4
}
