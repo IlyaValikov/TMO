{
 "cells": [
  {
   "cell_type": "markdown",
   "metadata": {},
   "source": [
    "# Обработка пропусков в данных, кодирование категориальных признаков, масштабирование данных."
   ]
  },
  {
   "cell_type": "markdown",
   "metadata": {},
   "source": [
    "### Загрузка и первичный анализ данных"
   ]
  },
  {
   "cell_type": "code",
   "execution_count": 206,
   "metadata": {},
   "outputs": [],
   "source": [
    "import numpy as np\n",
    "import pandas as pd\n",
    "import seaborn as sns\n",
    "import matplotlib.pyplot as plt\n",
    "%matplotlib inline \n",
    "sns.set(style=\"ticks\")"
   ]
  },
  {
   "cell_type": "code",
   "execution_count": 207,
   "metadata": {},
   "outputs": [],
   "source": [
    "data = pd.read_csv('coursera.csv', sep=\",\")"
   ]
  },
  {
   "cell_type": "code",
   "execution_count": 208,
   "metadata": {},
   "outputs": [
    {
     "data": {
      "text/plain": [
       "(988, 8)"
      ]
     },
     "execution_count": 208,
     "metadata": {},
     "output_type": "execute_result"
    }
   ],
   "source": [
    "data.shape"
   ]
  },
  {
   "cell_type": "code",
   "execution_count": 209,
   "metadata": {},
   "outputs": [
    {
     "data": {
      "text/plain": [
       "url                          object\n",
       "price                        object\n",
       "course_by                    object\n",
       "title                        object\n",
       "skills                       object\n",
       "ratings                     float64\n",
       "reviews                      object\n",
       "level, type and duration     object\n",
       "dtype: object"
      ]
     },
     "execution_count": 209,
     "metadata": {},
     "output_type": "execute_result"
    }
   ],
   "source": [
    "data.dtypes"
   ]
  },
  {
   "cell_type": "code",
   "execution_count": 210,
   "metadata": {},
   "outputs": [
    {
     "data": {
      "text/plain": [
       "url                           0\n",
       "price                        32\n",
       "course_by                     0\n",
       "title                         0\n",
       "skills                      182\n",
       "ratings                      42\n",
       "reviews                      42\n",
       "level, type and duration      0\n",
       "dtype: int64"
      ]
     },
     "execution_count": 210,
     "metadata": {},
     "output_type": "execute_result"
    }
   ],
   "source": [
    "data.isnull().sum()"
   ]
  },
  {
   "cell_type": "code",
   "execution_count": 211,
   "metadata": {},
   "outputs": [
    {
     "data": {
      "text/html": [
       "<div>\n",
       "<style scoped>\n",
       "    .dataframe tbody tr th:only-of-type {\n",
       "        vertical-align: middle;\n",
       "    }\n",
       "\n",
       "    .dataframe tbody tr th {\n",
       "        vertical-align: top;\n",
       "    }\n",
       "\n",
       "    .dataframe thead th {\n",
       "        text-align: right;\n",
       "    }\n",
       "</style>\n",
       "<table border=\"1\" class=\"dataframe\">\n",
       "  <thead>\n",
       "    <tr style=\"text-align: right;\">\n",
       "      <th></th>\n",
       "      <th>url</th>\n",
       "      <th>price</th>\n",
       "      <th>course_by</th>\n",
       "      <th>title</th>\n",
       "      <th>skills</th>\n",
       "      <th>ratings</th>\n",
       "      <th>reviews</th>\n",
       "      <th>level, type and duration</th>\n",
       "    </tr>\n",
       "  </thead>\n",
       "  <tbody>\n",
       "    <tr>\n",
       "      <th>0</th>\n",
       "      <td>https://www.coursera.org/learn/the-science-of-...</td>\n",
       "      <td>Free</td>\n",
       "      <td>Yale University</td>\n",
       "      <td>The Science of Well-Being</td>\n",
       "      <td>Personal Development, Business Psychology, Ent...</td>\n",
       "      <td>4.9</td>\n",
       "      <td>(35.5k reviews)</td>\n",
       "      <td>Mixed · Course · 1-3 Months</td>\n",
       "    </tr>\n",
       "    <tr>\n",
       "      <th>1</th>\n",
       "      <td>https://www.coursera.org/learn/indigenous-canada</td>\n",
       "      <td>Free</td>\n",
       "      <td>University of Alberta</td>\n",
       "      <td>Indigenous Canada</td>\n",
       "      <td>Leadership and Management, Business Psychology...</td>\n",
       "      <td>4.8</td>\n",
       "      <td>(20.8k reviews)</td>\n",
       "      <td>Mixed · Course · 1-3 Months</td>\n",
       "    </tr>\n",
       "    <tr>\n",
       "      <th>2</th>\n",
       "      <td>https://www.coursera.org/learn/financial-marke...</td>\n",
       "      <td>Free</td>\n",
       "      <td>Yale University</td>\n",
       "      <td>Financial Markets</td>\n",
       "      <td>Finance, Banking, Investment Management, Risk ...</td>\n",
       "      <td>4.8</td>\n",
       "      <td>(24.4k reviews)</td>\n",
       "      <td>Beginner · Course · 1-3 Months</td>\n",
       "    </tr>\n",
       "    <tr>\n",
       "      <th>3</th>\n",
       "      <td>https://www.coursera.org/learn/the-science-of-...</td>\n",
       "      <td>Free</td>\n",
       "      <td>Yale University</td>\n",
       "      <td>The Science of Well-Being for Teens</td>\n",
       "      <td>NaN</td>\n",
       "      <td>4.8</td>\n",
       "      <td>(29 reviews)</td>\n",
       "      <td>Beginner · Course · 1-3 Months</td>\n",
       "    </tr>\n",
       "    <tr>\n",
       "      <th>4</th>\n",
       "      <td>https://www.coursera.org/learn/introduction-ps...</td>\n",
       "      <td>Free</td>\n",
       "      <td>Yale University</td>\n",
       "      <td>Introduction to Psychology</td>\n",
       "      <td>Business Psychology, Emotional Intelligence, W...</td>\n",
       "      <td>4.9</td>\n",
       "      <td>(25.5k reviews)</td>\n",
       "      <td>Beginner · Course · 1-3 Months</td>\n",
       "    </tr>\n",
       "  </tbody>\n",
       "</table>\n",
       "</div>"
      ],
      "text/plain": [
       "                                                 url price  \\\n",
       "0  https://www.coursera.org/learn/the-science-of-...  Free   \n",
       "1   https://www.coursera.org/learn/indigenous-canada  Free   \n",
       "2  https://www.coursera.org/learn/financial-marke...  Free   \n",
       "3  https://www.coursera.org/learn/the-science-of-...  Free   \n",
       "4  https://www.coursera.org/learn/introduction-ps...  Free   \n",
       "\n",
       "               course_by                                title  \\\n",
       "0        Yale University            The Science of Well-Being   \n",
       "1  University of Alberta                    Indigenous Canada   \n",
       "2        Yale University                    Financial Markets   \n",
       "3        Yale University  The Science of Well-Being for Teens   \n",
       "4        Yale University           Introduction to Psychology   \n",
       "\n",
       "                                              skills  ratings  \\\n",
       "0  Personal Development, Business Psychology, Ent...      4.9   \n",
       "1  Leadership and Management, Business Psychology...      4.8   \n",
       "2  Finance, Banking, Investment Management, Risk ...      4.8   \n",
       "3                                                NaN      4.8   \n",
       "4  Business Psychology, Emotional Intelligence, W...      4.9   \n",
       "\n",
       "           reviews        level, type and duration  \n",
       "0  (35.5k reviews)     Mixed · Course · 1-3 Months  \n",
       "1  (20.8k reviews)     Mixed · Course · 1-3 Months  \n",
       "2  (24.4k reviews)  Beginner · Course · 1-3 Months  \n",
       "3     (29 reviews)  Beginner · Course · 1-3 Months  \n",
       "4  (25.5k reviews)  Beginner · Course · 1-3 Months  "
      ]
     },
     "execution_count": 211,
     "metadata": {},
     "output_type": "execute_result"
    }
   ],
   "source": [
    "data.head()"
   ]
  },
  {
   "cell_type": "code",
   "execution_count": 212,
   "metadata": {},
   "outputs": [
    {
     "name": "stdout",
     "output_type": "stream",
     "text": [
      "Всего строк: 988\n"
     ]
    }
   ],
   "source": [
    "total_count = data.shape[0]\n",
    "print('Всего строк: {}'.format(total_count))"
   ]
  },
  {
   "cell_type": "markdown",
   "metadata": {},
   "source": [
    "## Обработка пропусков в данных\n",
    "### Для числовых данных"
   ]
  },
  {
   "cell_type": "code",
   "execution_count": 213,
   "metadata": {},
   "outputs": [
    {
     "name": "stdout",
     "output_type": "stream",
     "text": [
      "Колонка ratings. Тип данных float64. Количество пустых значений 42, 4.25%.\n"
     ]
    }
   ],
   "source": [
    "num_cols = []\n",
    "for col in data.columns:\n",
    "    # Количество пустых значений \n",
    "    temp_null_count = data[data[col].isnull()].shape[0]\n",
    "    dt = str(data[col].dtype)\n",
    "    if temp_null_count>0 and (dt=='float64' or dt=='int64'):\n",
    "        num_cols.append(col)\n",
    "        temp_perc = round((temp_null_count / total_count) * 100.0, 2)\n",
    "        print('Колонка {}. Тип данных {}. Количество пустых значений {}, {}%.'.format(col, dt, temp_null_count, temp_perc))"
   ]
  },
  {
   "cell_type": "code",
   "execution_count": 214,
   "metadata": {},
   "outputs": [
    {
     "data": {
      "text/html": [
       "<div>\n",
       "<style scoped>\n",
       "    .dataframe tbody tr th:only-of-type {\n",
       "        vertical-align: middle;\n",
       "    }\n",
       "\n",
       "    .dataframe tbody tr th {\n",
       "        vertical-align: top;\n",
       "    }\n",
       "\n",
       "    .dataframe thead th {\n",
       "        text-align: right;\n",
       "    }\n",
       "</style>\n",
       "<table border=\"1\" class=\"dataframe\">\n",
       "  <thead>\n",
       "    <tr style=\"text-align: right;\">\n",
       "      <th></th>\n",
       "      <th>ratings</th>\n",
       "    </tr>\n",
       "  </thead>\n",
       "  <tbody>\n",
       "    <tr>\n",
       "      <th>0</th>\n",
       "      <td>4.9</td>\n",
       "    </tr>\n",
       "    <tr>\n",
       "      <th>1</th>\n",
       "      <td>4.8</td>\n",
       "    </tr>\n",
       "    <tr>\n",
       "      <th>2</th>\n",
       "      <td>4.8</td>\n",
       "    </tr>\n",
       "    <tr>\n",
       "      <th>3</th>\n",
       "      <td>4.8</td>\n",
       "    </tr>\n",
       "    <tr>\n",
       "      <th>4</th>\n",
       "      <td>4.9</td>\n",
       "    </tr>\n",
       "    <tr>\n",
       "      <th>...</th>\n",
       "      <td>...</td>\n",
       "    </tr>\n",
       "    <tr>\n",
       "      <th>983</th>\n",
       "      <td>4.7</td>\n",
       "    </tr>\n",
       "    <tr>\n",
       "      <th>984</th>\n",
       "      <td>4.4</td>\n",
       "    </tr>\n",
       "    <tr>\n",
       "      <th>985</th>\n",
       "      <td>NaN</td>\n",
       "    </tr>\n",
       "    <tr>\n",
       "      <th>986</th>\n",
       "      <td>NaN</td>\n",
       "    </tr>\n",
       "    <tr>\n",
       "      <th>987</th>\n",
       "      <td>4.6</td>\n",
       "    </tr>\n",
       "  </tbody>\n",
       "</table>\n",
       "<p>988 rows × 1 columns</p>\n",
       "</div>"
      ],
      "text/plain": [
       "     ratings\n",
       "0        4.9\n",
       "1        4.8\n",
       "2        4.8\n",
       "3        4.8\n",
       "4        4.9\n",
       "..       ...\n",
       "983      4.7\n",
       "984      4.4\n",
       "985      NaN\n",
       "986      NaN\n",
       "987      4.6\n",
       "\n",
       "[988 rows x 1 columns]"
      ]
     },
     "execution_count": 214,
     "metadata": {},
     "output_type": "execute_result"
    }
   ],
   "source": [
    "data_num = data[num_cols]\n",
    "data_num"
   ]
  },
  {
   "cell_type": "code",
   "execution_count": 215,
   "metadata": {},
   "outputs": [
    {
     "data": {
      "image/png": "[encoded data removed]",
      "text/plain": [
       "<Figure size 640x480 with 1 Axes>"
      ]
     },
     "metadata": {},
     "output_type": "display_data"
    }
   ],
   "source": [
    "for col in data_num:\n",
    "    plt.hist(data[col], 50)\n",
    "    plt.xlabel(col)\n",
    "    plt.show()"
   ]
  },
  {
   "cell_type": "code",
   "execution_count": 216,
   "metadata": {},
   "outputs": [],
   "source": [
    "from sklearn.impute import SimpleImputer\n",
    "from sklearn.impute import MissingIndicator"
   ]
  },
  {
   "cell_type": "code",
   "execution_count": 217,
   "metadata": {},
   "outputs": [],
   "source": [
    "strategies=['mean', 'median', 'most_frequent']"
   ]
  },
  {
   "cell_type": "code",
   "execution_count": 218,
   "metadata": {},
   "outputs": [],
   "source": [
    "def test_num_impute_col(dataset, column, strategy_param):\n",
    "    temp_data = dataset[[column]]\n",
    "    \n",
    "    indicator = MissingIndicator()\n",
    "    mask_missing_values_only = indicator.fit_transform(temp_data)\n",
    "    \n",
    "    imp_num = SimpleImputer(strategy=strategy_param)\n",
    "    data_num_imp = imp_num.fit_transform(temp_data)\n",
    "    \n",
    "    filled_data = data_num_imp[mask_missing_values_only]\n",
    "    \n",
    "    return column, strategy_param, filled_data.size, filled_data[0], filled_data[filled_data.size-1]"
   ]
  },
  {
   "cell_type": "code",
   "execution_count": 219,
   "metadata": {},
   "outputs": [
    {
     "name": "stdout",
     "output_type": "stream",
     "text": [
      "('ratings', 'mean', 42, 4.695560253699789, 4.695560253699789)\n",
      "('ratings', 'median', 42, 4.7, 4.7)\n",
      "('ratings', 'most_frequent', 42, 4.8, 4.8)\n"
     ]
    }
   ],
   "source": [
    "for strategy in strategies:\n",
    "    print(test_num_impute_col(data, 'ratings', strategy))"
   ]
  },
  {
   "cell_type": "markdown",
   "metadata": {},
   "source": [
    "Поскольку значений составляет менее 5%, то пропуски можно заполнить медианными значениями."
   ]
  },
  {
   "cell_type": "code",
   "execution_count": 220,
   "metadata": {},
   "outputs": [],
   "source": [
    "# Заполним пропуски медианными значениями в ratings\n",
    "imp_num = SimpleImputer(strategy='median')\n",
    "data_num_imp = imp_num.fit_transform(data[['ratings']])\n",
    "data['ratings'] = data_num_imp"
   ]
  },
  {
   "cell_type": "markdown",
   "metadata": {},
   "source": [
    "### Для категориальных данных"
   ]
  },
  {
   "cell_type": "code",
   "execution_count": 221,
   "metadata": {},
   "outputs": [
    {
     "name": "stdout",
     "output_type": "stream",
     "text": [
      "Колонка price. Тип данных object. Количество пустых значений 32, 3.24%.\n",
      "Колонка skills. Тип данных object. Количество пустых значений 182, 18.42%.\n",
      "Колонка reviews. Тип данных object. Количество пустых значений 42, 4.25%.\n"
     ]
    }
   ],
   "source": [
    "cat_cols = []\n",
    "for col in data.columns:\n",
    "    # Количество пустых значений \n",
    "    temp_null_count = data[data[col].isnull()].shape[0]\n",
    "    dt = str(data[col].dtype)\n",
    "    if temp_null_count>0 and (dt=='object'):\n",
    "        cat_cols.append(col)\n",
    "        temp_perc = round((temp_null_count / total_count) * 100.0, 2)\n",
    "        print('Колонка {}. Тип данных {}. Количество пустых значений {}, {}%.'.format(col, dt, temp_null_count, temp_perc))"
   ]
  },
  {
   "cell_type": "code",
   "execution_count": 222,
   "metadata": {},
   "outputs": [
    {
     "name": "stdout",
     "output_type": "stream",
     "text": [
      "count      956\n",
      "unique       1\n",
      "top       Free\n",
      "freq       956\n",
      "Name: price, dtype: object\n",
      "\n",
      "count                                                   806\n",
      "unique                                                  708\n",
      "top       Business Psychology, Culture, Leadership and M...\n",
      "freq                                                     21\n",
      "Name: skills, dtype: object\n",
      "\n",
      "count                946\n",
      "unique               506\n",
      "top       (1.1k reviews)\n",
      "freq                  29\n",
      "Name: reviews, dtype: object\n",
      "\n"
     ]
    }
   ],
   "source": [
    "for col in cat_cols:\n",
    "    print(data[col].describe(), end='\\n\\n')"
   ]
  },
  {
   "cell_type": "markdown",
   "metadata": {},
   "source": [
    "Из данных видим:\n",
    "- `price` - принимает значение `Free` или nan. Заменить nan на `Free` некорректно, так как это может привести к неверным выводам. Поэтому сделаем новый признак `is_free`, который будет принимать значение 1, если `price` = `Free`, и 0 в противном случае. После этого удалим признак `price`.\n",
    "- `skills` - принимает более 700 уникальных значений. Поэтому просто заменим пропуски на `NA`.\n",
    "- `reviews` - принимает более 500 уникальных значений. Поэтому просто заменим пропуски на `NA`."
   ]
  },
  {
   "cell_type": "code",
   "execution_count": 223,
   "metadata": {},
   "outputs": [],
   "source": [
    "imp = SimpleImputer(missing_values=np.nan, strategy='constant', fill_value='NA')\n",
    "for col in cat_cols:\n",
    "    data[[col]] = imp.fit_transform(data[[col]])"
   ]
  },
  {
   "cell_type": "code",
   "execution_count": 224,
   "metadata": {},
   "outputs": [],
   "source": [
    "# удалим колонку price, заменим её на is_free (0 - платный, 1 - бесплатный)\n",
    "data = data.rename(columns={'price': 'is_free'})\n",
    "\n",
    "for i in range(data.shape[0]):\n",
    "    if data.loc[i, 'is_free'] == 'Free':\n",
    "        data.loc[i, 'is_free'] = 1\n",
    "    else:\n",
    "        data.loc[i, 'is_free'] = 0"
   ]
  },
  {
   "cell_type": "markdown",
   "metadata": {},
   "source": [
    "### Кодирование категориальных признаков\n",
    "\n",
    "- `reviews` - использует числовые значения внутри строки. Преобразуем их в числовые значения.\n",
    "- `level, type and duration` - разделим на несколько бинарных признаков. Затем осуществим кодирование `level` и `type` с помощью OneHotEncoder (`level` имеет 3 сравнимых значения и 1 несравнимое - `mixed`)"
   ]
  },
  {
   "cell_type": "code",
   "execution_count": 225,
   "metadata": {},
   "outputs": [],
   "source": [
    "k_flag = data['reviews'].str.contains('k', regex=False)\n",
    "data['reviews'] = data['reviews'].str.extract('(\\d+\\.?\\d*)', expand=True).astype(float)\n",
    "data['reviews'] = data['reviews'] * 1000 * k_flag + data['reviews'] * (~k_flag)"
   ]
  },
  {
   "cell_type": "code",
   "execution_count": 226,
   "metadata": {},
   "outputs": [],
   "source": [
    "data[['level', 'type', 'duration']] = data['level, type and duration'].str.split(' · ', expand=True)\n",
    "data.drop(columns=['level, type and duration'], inplace=True)"
   ]
  },
  {
   "cell_type": "code",
   "execution_count": 227,
   "metadata": {},
   "outputs": [],
   "source": [
    "level_dummies = pd.get_dummies(data['level'], prefix='level')\n",
    "data = pd.concat([data, level_dummies], axis=1)\n",
    "data.drop(columns=['level'], inplace=True)"
   ]
  },
  {
   "cell_type": "code",
   "execution_count": 228,
   "metadata": {},
   "outputs": [],
   "source": [
    "level_dummies = pd.get_dummies(data['type'], prefix='type')\n",
    "data = pd.concat([data, level_dummies], axis=1)\n",
    "data.drop(columns=['type'], inplace=True)"
   ]
  },
  {
   "cell_type": "code",
   "execution_count": 232,
   "metadata": {},
   "outputs": [
    {
     "data": {
      "text/html": [
       "<div>\n",
       "<style scoped>\n",
       "    .dataframe tbody tr th:only-of-type {\n",
       "        vertical-align: middle;\n",
       "    }\n",
       "\n",
       "    .dataframe tbody tr th {\n",
       "        vertical-align: top;\n",
       "    }\n",
       "\n",
       "    .dataframe thead th {\n",
       "        text-align: right;\n",
       "    }\n",
       "</style>\n",
       "<table border=\"1\" class=\"dataframe\">\n",
       "  <thead>\n",
       "    <tr style=\"text-align: right;\">\n",
       "      <th></th>\n",
       "      <th>url</th>\n",
       "      <th>is_free</th>\n",
       "      <th>course_by</th>\n",
       "      <th>title</th>\n",
       "      <th>skills</th>\n",
       "      <th>ratings</th>\n",
       "      <th>reviews</th>\n",
       "      <th>duration</th>\n",
       "      <th>level_Advanced</th>\n",
       "      <th>level_Beginner</th>\n",
       "      <th>level_Intermediate</th>\n",
       "      <th>level_Mixed</th>\n",
       "      <th>type_Course</th>\n",
       "      <th>type_Guided Project</th>\n",
       "    </tr>\n",
       "  </thead>\n",
       "  <tbody>\n",
       "    <tr>\n",
       "      <th>0</th>\n",
       "      <td>https://www.coursera.org/learn/the-science-of-...</td>\n",
       "      <td>1</td>\n",
       "      <td>Yale University</td>\n",
       "      <td>The Science of Well-Being</td>\n",
       "      <td>Personal Development, Business Psychology, Ent...</td>\n",
       "      <td>4.9</td>\n",
       "      <td>35500.0</td>\n",
       "      <td>1-3 Months</td>\n",
       "      <td>False</td>\n",
       "      <td>False</td>\n",
       "      <td>False</td>\n",
       "      <td>True</td>\n",
       "      <td>True</td>\n",
       "      <td>False</td>\n",
       "    </tr>\n",
       "    <tr>\n",
       "      <th>1</th>\n",
       "      <td>https://www.coursera.org/learn/indigenous-canada</td>\n",
       "      <td>1</td>\n",
       "      <td>University of Alberta</td>\n",
       "      <td>Indigenous Canada</td>\n",
       "      <td>Leadership and Management, Business Psychology...</td>\n",
       "      <td>4.8</td>\n",
       "      <td>20800.0</td>\n",
       "      <td>1-3 Months</td>\n",
       "      <td>False</td>\n",
       "      <td>False</td>\n",
       "      <td>False</td>\n",
       "      <td>True</td>\n",
       "      <td>True</td>\n",
       "      <td>False</td>\n",
       "    </tr>\n",
       "    <tr>\n",
       "      <th>2</th>\n",
       "      <td>https://www.coursera.org/learn/financial-marke...</td>\n",
       "      <td>1</td>\n",
       "      <td>Yale University</td>\n",
       "      <td>Financial Markets</td>\n",
       "      <td>Finance, Banking, Investment Management, Risk ...</td>\n",
       "      <td>4.8</td>\n",
       "      <td>24400.0</td>\n",
       "      <td>1-3 Months</td>\n",
       "      <td>False</td>\n",
       "      <td>True</td>\n",
       "      <td>False</td>\n",
       "      <td>False</td>\n",
       "      <td>True</td>\n",
       "      <td>False</td>\n",
       "    </tr>\n",
       "    <tr>\n",
       "      <th>3</th>\n",
       "      <td>https://www.coursera.org/learn/the-science-of-...</td>\n",
       "      <td>1</td>\n",
       "      <td>Yale University</td>\n",
       "      <td>The Science of Well-Being for Teens</td>\n",
       "      <td>NA</td>\n",
       "      <td>4.8</td>\n",
       "      <td>29.0</td>\n",
       "      <td>1-3 Months</td>\n",
       "      <td>False</td>\n",
       "      <td>True</td>\n",
       "      <td>False</td>\n",
       "      <td>False</td>\n",
       "      <td>True</td>\n",
       "      <td>False</td>\n",
       "    </tr>\n",
       "    <tr>\n",
       "      <th>4</th>\n",
       "      <td>https://www.coursera.org/learn/introduction-ps...</td>\n",
       "      <td>1</td>\n",
       "      <td>Yale University</td>\n",
       "      <td>Introduction to Psychology</td>\n",
       "      <td>Business Psychology, Emotional Intelligence, W...</td>\n",
       "      <td>4.9</td>\n",
       "      <td>25500.0</td>\n",
       "      <td>1-3 Months</td>\n",
       "      <td>False</td>\n",
       "      <td>True</td>\n",
       "      <td>False</td>\n",
       "      <td>False</td>\n",
       "      <td>True</td>\n",
       "      <td>False</td>\n",
       "    </tr>\n",
       "    <tr>\n",
       "      <th>...</th>\n",
       "      <td>...</td>\n",
       "      <td>...</td>\n",
       "      <td>...</td>\n",
       "      <td>...</td>\n",
       "      <td>...</td>\n",
       "      <td>...</td>\n",
       "      <td>...</td>\n",
       "      <td>...</td>\n",
       "      <td>...</td>\n",
       "      <td>...</td>\n",
       "      <td>...</td>\n",
       "      <td>...</td>\n",
       "      <td>...</td>\n",
       "      <td>...</td>\n",
       "    </tr>\n",
       "    <tr>\n",
       "      <th>983</th>\n",
       "      <td>https://www.coursera.org/learn/structuring-val...</td>\n",
       "      <td>1</td>\n",
       "      <td>The Chinese University of Hong Kong</td>\n",
       "      <td>Structuring Values in Modern China</td>\n",
       "      <td>Business Psychology, Culture, Leadership and M...</td>\n",
       "      <td>4.7</td>\n",
       "      <td>30.0</td>\n",
       "      <td>1-3 Months</td>\n",
       "      <td>False</td>\n",
       "      <td>False</td>\n",
       "      <td>False</td>\n",
       "      <td>True</td>\n",
       "      <td>True</td>\n",
       "      <td>False</td>\n",
       "    </tr>\n",
       "    <tr>\n",
       "      <th>984</th>\n",
       "      <td>https://www.coursera.org/learn/organic-chemistry</td>\n",
       "      <td>1</td>\n",
       "      <td>Xi'an Jiaotong University</td>\n",
       "      <td>有机化学</td>\n",
       "      <td>NA</td>\n",
       "      <td>4.4</td>\n",
       "      <td>79.0</td>\n",
       "      <td>1-3 Months</td>\n",
       "      <td>False</td>\n",
       "      <td>False</td>\n",
       "      <td>False</td>\n",
       "      <td>True</td>\n",
       "      <td>True</td>\n",
       "      <td>False</td>\n",
       "    </tr>\n",
       "    <tr>\n",
       "      <th>985</th>\n",
       "      <td>https://www.coursera.org/learn/motivando-equip...</td>\n",
       "      <td>1</td>\n",
       "      <td>Universidad de Palermo</td>\n",
       "      <td>Motivando Equipos de Trabajo</td>\n",
       "      <td>NA</td>\n",
       "      <td>4.7</td>\n",
       "      <td>NaN</td>\n",
       "      <td>1-4 Weeks</td>\n",
       "      <td>False</td>\n",
       "      <td>True</td>\n",
       "      <td>False</td>\n",
       "      <td>False</td>\n",
       "      <td>True</td>\n",
       "      <td>False</td>\n",
       "    </tr>\n",
       "    <tr>\n",
       "      <th>986</th>\n",
       "      <td>https://www.coursera.org/learn/empathy-data-risk</td>\n",
       "      <td>1</td>\n",
       "      <td>University of Illinois at Urbana-Champaign</td>\n",
       "      <td>Empathy, Data, and Risk</td>\n",
       "      <td>Finance, Leadership and Management, Risk Manag...</td>\n",
       "      <td>4.7</td>\n",
       "      <td>NaN</td>\n",
       "      <td>1-3 Months</td>\n",
       "      <td>False</td>\n",
       "      <td>True</td>\n",
       "      <td>False</td>\n",
       "      <td>False</td>\n",
       "      <td>True</td>\n",
       "      <td>False</td>\n",
       "    </tr>\n",
       "    <tr>\n",
       "      <th>987</th>\n",
       "      <td>https://www.coursera.org/learn/ehealth</td>\n",
       "      <td>1</td>\n",
       "      <td>The University of Sydney</td>\n",
       "      <td>eHealth: More than just an electronic record</td>\n",
       "      <td>NA</td>\n",
       "      <td>4.6</td>\n",
       "      <td>298.0</td>\n",
       "      <td>1-3 Months</td>\n",
       "      <td>False</td>\n",
       "      <td>False</td>\n",
       "      <td>False</td>\n",
       "      <td>True</td>\n",
       "      <td>True</td>\n",
       "      <td>False</td>\n",
       "    </tr>\n",
       "  </tbody>\n",
       "</table>\n",
       "<p>988 rows × 14 columns</p>\n",
       "</div>"
      ],
      "text/plain": [
       "                                                   url is_free  \\\n",
       "0    https://www.coursera.org/learn/the-science-of-...       1   \n",
       "1     https://www.coursera.org/learn/indigenous-canada       1   \n",
       "2    https://www.coursera.org/learn/financial-marke...       1   \n",
       "3    https://www.coursera.org/learn/the-science-of-...       1   \n",
       "4    https://www.coursera.org/learn/introduction-ps...       1   \n",
       "..                                                 ...     ...   \n",
       "983  https://www.coursera.org/learn/structuring-val...       1   \n",
       "984   https://www.coursera.org/learn/organic-chemistry       1   \n",
       "985  https://www.coursera.org/learn/motivando-equip...       1   \n",
       "986   https://www.coursera.org/learn/empathy-data-risk       1   \n",
       "987             https://www.coursera.org/learn/ehealth       1   \n",
       "\n",
       "                                      course_by  \\\n",
       "0                               Yale University   \n",
       "1                         University of Alberta   \n",
       "2                               Yale University   \n",
       "3                               Yale University   \n",
       "4                               Yale University   \n",
       "..                                          ...   \n",
       "983         The Chinese University of Hong Kong   \n",
       "984                   Xi'an Jiaotong University   \n",
       "985                      Universidad de Palermo   \n",
       "986  University of Illinois at Urbana-Champaign   \n",
       "987                    The University of Sydney   \n",
       "\n",
       "                                            title  \\\n",
       "0                       The Science of Well-Being   \n",
       "1                               Indigenous Canada   \n",
       "2                               Financial Markets   \n",
       "3             The Science of Well-Being for Teens   \n",
       "4                      Introduction to Psychology   \n",
       "..                                            ...   \n",
       "983            Structuring Values in Modern China   \n",
       "984                                          有机化学   \n",
       "985                  Motivando Equipos de Trabajo   \n",
       "986                       Empathy, Data, and Risk   \n",
       "987  eHealth: More than just an electronic record   \n",
       "\n",
       "                                                skills  ratings  reviews  \\\n",
       "0    Personal Development, Business Psychology, Ent...      4.9  35500.0   \n",
       "1    Leadership and Management, Business Psychology...      4.8  20800.0   \n",
       "2    Finance, Banking, Investment Management, Risk ...      4.8  24400.0   \n",
       "3                                                   NA      4.8     29.0   \n",
       "4    Business Psychology, Emotional Intelligence, W...      4.9  25500.0   \n",
       "..                                                 ...      ...      ...   \n",
       "983  Business Psychology, Culture, Leadership and M...      4.7     30.0   \n",
       "984                                                 NA      4.4     79.0   \n",
       "985                                                 NA      4.7      NaN   \n",
       "986  Finance, Leadership and Management, Risk Manag...      4.7      NaN   \n",
       "987                                                 NA      4.6    298.0   \n",
       "\n",
       "       duration  level_Advanced  level_Beginner  level_Intermediate  \\\n",
       "0    1-3 Months           False           False               False   \n",
       "1    1-3 Months           False           False               False   \n",
       "2    1-3 Months           False            True               False   \n",
       "3    1-3 Months           False            True               False   \n",
       "4    1-3 Months           False            True               False   \n",
       "..          ...             ...             ...                 ...   \n",
       "983  1-3 Months           False           False               False   \n",
       "984  1-3 Months           False           False               False   \n",
       "985   1-4 Weeks           False            True               False   \n",
       "986  1-3 Months           False            True               False   \n",
       "987  1-3 Months           False           False               False   \n",
       "\n",
       "     level_Mixed  type_Course  type_Guided Project  \n",
       "0           True         True                False  \n",
       "1           True         True                False  \n",
       "2          False         True                False  \n",
       "3          False         True                False  \n",
       "4          False         True                False  \n",
       "..           ...          ...                  ...  \n",
       "983         True         True                False  \n",
       "984         True         True                False  \n",
       "985        False         True                False  \n",
       "986        False         True                False  \n",
       "987         True         True                False  \n",
       "\n",
       "[988 rows x 14 columns]"
      ]
     },
     "execution_count": 232,
     "metadata": {},
     "output_type": "execute_result"
    }
   ],
   "source": [
    "data"
   ]
  },
  {
   "cell_type": "markdown",
   "metadata": {},
   "source": [
    "## Масштабирование данных\n",
    "\n",
    "Наконец, масштабируем числовые признаки с помощью StandardScaler."
   ]
  },
  {
   "cell_type": "code",
   "execution_count": 229,
   "metadata": {},
   "outputs": [],
   "source": [
    "from sklearn.discriminant_analysis import StandardScaler\n",
    "\n",
    "sc = StandardScaler()\n",
    "sc_data = sc.fit_transform(data[['ratings', 'reviews']])"
   ]
  },
  {
   "cell_type": "code",
   "execution_count": 230,
   "metadata": {},
   "outputs": [
    {
     "data": {
      "image/png": "[encoded data removed]",
      "text/plain": [
       "<Figure size 640x480 with 1 Axes>"
      ]
     },
     "metadata": {},
     "output_type": "display_data"
    }
   ],
   "source": [
    "plt.hist(sc_data[:, 0], 50)\n",
    "plt.title('ratings (Z-оценка)')\n",
    "plt.show()"
   ]
  },
  {
   "cell_type": "code",
   "execution_count": 231,
   "metadata": {},
   "outputs": [
    {
     "data": {
      "image/png": "[encoded data removed]",
      "text/plain": [
       "<Figure size 640x480 with 1 Axes>"
      ]
     },
     "metadata": {},
     "output_type": "display_data"
    }
   ],
   "source": [
    "plt.hist(sc_data[:, 1], 50)\n",
    "plt.title('reviews (Z-оценка)')\n",
    "plt.show()"
   ]
  }
 ],
 "metadata": {
  "kernelspec": {
   "display_name": ".venv",
   "language": "python",
   "name": "python3"
  },
  "language_info": {
   "codemirror_mode": {
    "name": "ipython",
    "version": 3
   },
   "file_extension": ".py",
   "mimetype": "text/x-python",
   "name": "python",
   "nbconvert_exporter": "python",
   "pygments_lexer": "ipython3",
   "version": "3.11.2"
  }
 },
 "nbformat": 4,
 "nbformat_minor": 2
}
